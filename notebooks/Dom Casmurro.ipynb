{
 "cells": [
  {
   "cell_type": "markdown",
   "id": "2180e74c",
   "metadata": {},
   "source": [
    "# Fontes\n",
    "\n",
    "* https://www.nltk.org/howto/portuguese_en.html\n",
    "* https://www.youtube.com/watch?v=jMN1XbMRE6s"
   ]
  },
  {
   "cell_type": "markdown",
   "id": "65db8d7c",
   "metadata": {},
   "source": [
    "# Lendo e pré-processando "
   ]
  },
  {
   "cell_type": "code",
   "execution_count": 29,
   "id": "ccbf8c1c",
   "metadata": {},
   "outputs": [
    {
     "name": "stdout",
     "output_type": "stream",
     "text": [
      "                                  Dom Casmurro\n",
      "\n",
      "                                                                             Texto de referência:\n",
      "                                                     Obras Completas de Machado de Assis, vol. I,\n",
      "                                                              Nova Aguilar, Rio de Janeiro, 1994.\n",
      "\n",
      "\n",
      "                                Publicado originalmente pela Editora Garnier, Rio de Janeiro, 1899.\n",
      "\n",
      "\n",
      "\n",
      "\n",
      "                             CAPÍTULO PRIMEIRO\n",
      "     \n"
     ]
    }
   ],
   "source": [
    "# ok, depois descobri que toda a obra do machado de assis pode ser baixada pelo nltk \n",
    "#   from nltk.corpus import machado\n",
    "#   rs\n",
    "with open('../books/dom_casmurro.txt', encoding='utf-8') as f:\n",
    "    dom_casmurro = f.read()\n",
    "    \n",
    "\n",
    "print(dom_casmurro[:500])"
   ]
  },
  {
   "cell_type": "code",
   "execution_count": 49,
   "id": "54d3d480",
   "metadata": {},
   "outputs": [],
   "source": [
    "import re\n",
    "\n",
    "# usado para remover quebras de linhas entre palavras (diferente de quebras de linhas entre parágrafos ou diálogos)\n",
    "RE_BL_BETWEEN_WORDS = re.compile(r'(\\b|;|,)\\n\\b')\n",
    "# usado para extrair o texto estruturado em capítulo, título e conteúdo, dividindo em seus capítulos\n",
    "RE_CAPITULO = re.compile(r'CAPÍTULO\\ (?P<numero>\\w+)\\s+(?P<titulo>.+?)\\n(?P<conteudo>.*?(?=CAPÍTULO|$))', re.DOTALL)\n",
    "\n",
    "def clean(text):\n",
    "    \n",
    "    return RE_BL_BETWEEN_WORDS.sub(' ', text).strip()"
   ]
  },
  {
   "cell_type": "code",
   "execution_count": 48,
   "id": "c0563948",
   "metadata": {},
   "outputs": [
    {
     "name": "stdout",
     "output_type": "stream",
     "text": [
      "Tio Cosme vivia com minha mãe, desde que ela enviuvou. Já então era viúvo como prima Justina; era a casa dos três viúvos.\n",
      "\n",
      "A fortuna troca muita vez as mãos à natureza. Formado para as serenas funções do capitalismo, tio Cosme não enriquecia no foro: ia comendo. Tinha o escritório na antiga rua das Violas, perto do júri, que era no extinto Aljube. Trabalhava no crime. José Dias não perdia as defesas orais de tio Cosme. Era quem lhe vestia e despia a toga, com muitos cumprimentos no fim. Em casa, referia os debates. Tio Cosme, por mais modesto que quisesse ser, sorria de persuasão.\n",
      "\n",
      "Era gordo e pesado, tinha a respiração curta e os olhos dorminhocos. Uma das minhas recordações mais antigas era vê-lo montar todas as manhãs a besta que minha mãe lhe deu e que o levava ao escritório. O preto que a tinha ido buscar à cocheira, segurava o freio, enquanto ele erguia o pé e pousava no estribo; a isto seguia-se um minuto de descanso ou reflexão. Depois, dava um impulso, o primeiro, o corpo ameaçava subir, mas não subia; segundo impulso, igual efeito.\n",
      "Enfim, após alguns instantes largos, tio Cosme enfeixava todas as forças físicas e morais, dava o último surto da terra, e desta vez caía em cima do selim.\n",
      "Raramente a besta deixava de mostrar por um gesto que acabava de receber o mundo. Tio Cosme acomodava as carnes, e a besta partia a trote.\n",
      "\n",
      "Também não me esqueceu o que ele me fez uma tarde. Posto que nascido na roça\n",
      "(donde vim com dois anos) e apesar dos costumes do tempo, eu não sabia montar, e tinha medo ao cavalo. Tio Cosme pegou em mim e escanchou-me em cima da besta. Quando me vi no alto (tinha nove anos), sozinho e desamparado, o chão lá embaixo, entrei a gritar desesperadamente: \"Mamãe! mamãe!\" Ela acudiu pálida e trêmula, cuidou que me estivessem matando, apeou-me, afagou-me enquanto o irmão perguntava:\n",
      "\n",
      "— Mana Glória, pois um tamanhão destes tem medo de besta mansa?\n",
      "\n",
      "— Não está acostumado.\n",
      "\n",
      "— Deve acostumar-se. Padre que seja, se for vigário na roça, é preciso que monte a cavalo; e, aqui mesmo, ainda não sendo padre, se quiser florear como os outros rapazes, e não souber, há de queixar-se de você, mana Glória.\n",
      "\n",
      "— Pois que se queixe; tenho medo.\n",
      "\n",
      "— Medo! Ora, medo!\n",
      "\n",
      "A verdade é que eu só vim a aprender equitação mais tarde, menos por gosto que por vergonha de dizer que não sabia montar. \"Agora é que ele vai namorar deveras\", disseram quando eu comecei as lições. Não se diria o mesmo de tio Cosme. Nele era velho costume e necessidade. Já não dava para namoros.\n",
      "Contam que, em rapaz, foi aceito de muitas damas, além de partidário exaltado mas os anos levaram-lhe o mais do ardor político e sexual, e a gordura acabou com o resto de idéias públicas e específicas. Agora só cumpria as obrigações do ofício e sem amor. Nas horas de lazer vivia olhando ou jogava. Uma ou outra vez dizia pilhérias.\n"
     ]
    }
   ],
   "source": [
    "dom_casmurro_capitulos = [\n",
    "    {\n",
    "        'capitulo': m.group('numero'),\n",
    "        'titulo': m.group('titulo'),\n",
    "        'conteudo': clean(m.group('conteudo'))\n",
    "    }\n",
    "    for m in RE_CAPITULO.finditer(dom_casmurro)\n",
    "]\n",
    "\n",
    "print(dom_casmurro_capitulos[5]['conteudo'])"
   ]
  },
  {
   "cell_type": "markdown",
   "id": "c619c00c",
   "metadata": {},
   "source": [
    "# Separando em tokens e analisando"
   ]
  },
  {
   "cell_type": "code",
   "execution_count": 54,
   "id": "01d08cd9",
   "metadata": {},
   "outputs": [],
   "source": [
    "import nltk\n",
    "\n",
    "# lista de tokens gerados com a tokenização do conteúdo dos capítulos\n",
    "dom_casmurro_tokens = [\n",
    "    token for ch in dom_casmurro_capitulos\n",
    "          for token in nltk.tokenize.word_tokenize(ch['conteudo'], language='portuguese')\n",
    "]"
   ]
  },
  {
   "cell_type": "code",
   "execution_count": 55,
   "id": "5b658919",
   "metadata": {},
   "outputs": [],
   "source": [
    "# transforma lista de tokens em objeto nltk.Text, útil para análises com nltk\n",
    "# https://www.nltk.org/api/nltk.text.html#nltk.text.Text\n",
    "dom_casmurro_txt = nltk.Text(dom_casmurro_tokens)"
   ]
  },
  {
   "cell_type": "code",
   "execution_count": 56,
   "id": "1ff0e483",
   "metadata": {},
   "outputs": [
    {
     "name": "stdout",
     "output_type": "stream",
     "text": [
      "Displaying 25 of 162 matches:\n",
      ", como eu estava cansado , fechei os olhos três ou quatro vezes ; tanto bastou \n",
      " ponto as bochechas , os dentes , os olhos , toda a cara , toda a pessoa , todo\n",
      "sado , tinha a respiração curta e os olhos dorminhocos . Uma das minhas recorda\n",
      "eleira grande ; o retrato mostra uns olhos redondos , que me acompanham para to\n",
      "ria e Pandora me aborrecem , ergo os olhos para eles , e esqueço os bilhetes br\n",
      " reparasse no padre , não tirasse os olhos do padre . Em casa , brincava de mis\n",
      ", mas não achei língua . Todo eu era olhos e coração , um coração que desta vez\n",
      " pela boca fora . Não podia tirar os olhos daquela criatura de quatorze anos , \n",
      " desciam-lhe pelas costas . Morena , olhos claros e grandes , nariz reto e comp\n",
      "Voltei-me para ela ; Capitu tinha os olhos no chão . Ergueu-os logo , devagar ,\n",
      "ir de cansadas ou de esquecidas . Os olhos fitavam-se e desfitavam-se , e depoi\n",
      " , mas uma só criatura seráfica . Os olhos continuaram a dizer coisas infinitas\n",
      "quer ver ? E séria , fitou em mim os olhos , convidando-me ao jogo . O susto é \n",
      "a filha , a mesma cabeça , os mesmos olhos claros , a mulher é que lhe disse qu\n",
      "Seja homem , ande . Pádua enxugou os olhos e foi para casa , onde viveu prostra\n",
      "u em cortejar a vizinhança risonho , olhos no ar , antes mesmo da administração\n",
      "as , falávamos do seminário . Com os olhos em mim , Capitu queria saber que not\n",
      "cípio , não disse nada . Recolheu os olhos , meteu-os em si e deixou-se estar c\n",
      "iam-se as ocasiões pelo apertado dos olhos . Pediu-me algumas circunstâncias ma\n",
      "Europa . Dito isto , espreitou-me os olhos , mas creio que eles não lhe dissera\n",
      "er o plano de mamãe . '' Levantei os olhos ao céu , que começava a embruscar-se\n",
      "nária , magra e pálida , boca fina e olhos curiosos . Vivia conosco por favor d\n",
      "isso na cama . Só então senti que os olhos de prima Justina , quando eu falava \n",
      "e todo má . Capitu , apesar daqueles olhos que o Diabo lhe deu ... Você já repa\n",
      "iabo lhe deu ... Você já reparou nos olhos dela ? São assim de cigana oblíqua e\n"
     ]
    }
   ],
   "source": [
    "# concordance é utilizado para apresentar ocorrências de tokens em seu contexto\n",
    "\n",
    "dom_casmurro_txt.concordance('olhos')"
   ]
  },
  {
   "cell_type": "code",
   "execution_count": 72,
   "id": "c2b57c66",
   "metadata": {},
   "outputs": [
    {
     "data": {
      "text/plain": [
       "[('José', 'Dias'),\n",
       " ('minha', 'mãe'),\n",
       " ('prima', 'Justina'),\n",
       " ('tio', 'Cosme'),\n",
       " ('Minha', 'mãe'),\n",
       " ('que', 'não'),\n",
       " ('Padre', 'Cabral'),\n",
       " ('Tio', 'Cosme'),\n",
       " ('Prima', 'Justina'),\n",
       " ('outra', 'vez'),\n",
       " ('alguma', 'coisa'),\n",
       " ('pode', 'ser'),\n",
       " ('uma', 'vez'),\n",
       " ('outra', 'coisa'),\n",
       " ('muita', 'vez'),\n",
       " ('para', 'mim'),\n",
       " ('não', 'sei'),\n",
       " ('alguns', 'instantes'),\n",
       " ('dia', 'seguinte'),\n",
       " ('Engenho', 'Novo')]"
      ]
     },
     "execution_count": 72,
     "metadata": {},
     "output_type": "execute_result"
    }
   ],
   "source": [
    "# collocation são tokens que aparecem juntos\n",
    "dom_casmurro_txt.collocation_list()"
   ]
  },
  {
   "cell_type": "code",
   "execution_count": 77,
   "id": "268bd9ed",
   "metadata": {},
   "outputs": [
    {
     "name": "stdout",
     "output_type": "stream",
     "text": [
      "fez; e; ,; a; chamava-me; abanava; um; ,; !; amava-me; !; e; adoeciam;\n",
      ".; !; estava; agarrou-me; tinha; ,; foi; !; riscava; respondeu; .; ,;\n",
      "e; e; queria; ,; não; gostava; não; do; refletia; estava; deixou-se;\n",
      ".; recusou; ,; ,; ;; .; repetiu-os; :; tem; .; .; ,; ,; e; .; .; .; ,;\n",
      "ia; preferia; quis; era; ,; dão; confessou-me; ,; obedecia; quis; não;\n",
      ".; .; ,; .; .; .; deixou-se; .; ,; deu-me; ?; derreou; !; ergueu-se;\n",
      "tinha; compôs-se; ,; fechava-me; ...; .; ,; .; recuou; eram; refletiu;\n",
      ",; ,; iniciou; ,; abre; ,; ,; não; repetiu-lhe; com; ,; ia; ,; não; .;\n",
      "que; segredou-me; .; .; ,; ,; despedia-se; respondeu; confirmou;\n",
      "ouvia-me; olhava; ,; tornou; ,; refletia; fez; deixassem; foi; tornou;\n",
      ";; falou; quando; olhou; !; teve; limitou-se; ,; falou; ,; sorria;\n",
      "fitou-me; alegava; ,; não; ,; não; ,; temia; deu-me; uma; ,; ao; ,; ;;\n",
      ".; como; ,; ,; ,; confirmava; e; ,; ,; dava-me; inclinou-se; refreou-\n",
      "me; !; ,; cheia; fez-se; lhe; que; sorriu; ,; ia; ia; ,; fê-la; ,;\n",
      "usava; lhe; ,; ,; e; .; ,; e; ,; ,; para; ;; saísse; e; aquela; ria;\n",
      "ria; .; .; ,; vai; .; era; passou; estava; devia; que; trazia; e; .;\n",
      "que; ergueu-se; ;; se; ia; era; era; ,; .; ...; ,; comigo; ,; e; ,; é;\n",
      "achasse; a; não; meteu; falecera; .; ,; entregou-lhe; ,; não; .; me;\n",
      "que; estava; eram; continuavam; pedia-o; gostava; a; já; a; .; .; ,;\n",
      "fitou-me; deteve-me; ); pode; é; mas; e; ,; empregou; convalescente;\n",
      "não; os; ,; que; ,; achou; ,; quis; morria; deixou-se; foi; gostava;\n",
      ".; era; ,; estava; e; ;; !; novamente; .; agastada; ,; ;; ralhava; .;\n",
      ",; ,; e; eram; e; e; e; ,; olhou; enxugou-as; fitaram; ?; com;\n",
      "levantou-se; censurou; saiu; por; ,; desta; quis; sorriu; estava; .;\n",
      "brincava; tinha; ,; sorriu; tinha; naqueles; .; propôs; para; devia;\n",
      "?; .; e; diante; não; pareceu-me; recompôs-se; respondeu; ,; ,; não;\n",
      "olhou; e; .; ao; .; ,; ,; começara; ,; ia; por; da; menina\n"
     ]
    }
   ],
   "source": [
    "# tokens que aparecem após 'Capitu'\n",
    "dom_casmurro_txt.findall('<Capitu> (<.*>)')"
   ]
  },
  {
   "cell_type": "code",
   "execution_count": null,
   "id": "c8f6b44a",
   "metadata": {},
   "outputs": [],
   "source": []
  }
 ],
 "metadata": {
  "kernelspec": {
   "display_name": "Python 3 (ipykernel)",
   "language": "python",
   "name": "python3"
  },
  "language_info": {
   "codemirror_mode": {
    "name": "ipython",
    "version": 3
   },
   "file_extension": ".py",
   "mimetype": "text/x-python",
   "name": "python",
   "nbconvert_exporter": "python",
   "pygments_lexer": "ipython3",
   "version": "3.8.10"
  }
 },
 "nbformat": 4,
 "nbformat_minor": 5
}
